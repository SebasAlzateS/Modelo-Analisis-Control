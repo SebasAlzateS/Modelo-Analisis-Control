{
 "cells": [
  {
   "cell_type": "code",
   "execution_count": 5,
   "id": "3032a8ac",
   "metadata": {},
   "outputs": [],
   "source": [
    "import control\n",
    "import numpy as np\n",
    "import matplotlib.pyplot as plt\n",
    "import tbcontrol\n",
    "tbcontrol.expectversion(\"0.1.10\")\n",
    "%matplotlib inline\n",
    "# import pandas as pd\n",
    "import scipy.optimize\n",
    "from tbcontrol.responses import fopdt, sopdt\n",
    "from ipywidgets import interact\n",
    "\n",
    "def resultplot1(K, tau, theta, y0):\n",
    "    plt.figure(figsize=(21, 7))\n",
    "    plt.scatter(ts, ym)\n",
    "    plt.plot(ts, fopdt(ts, K, tau, theta, y0), color='red')\n",
    "    plt.grid(True)\n",
    "\n",
    "def resultplot2(K, tau, zeta, theta, y0):\n",
    "    plt.figure(figsize=(21, 7))\n",
    "    plt.scatter(ts, ym)\n",
    "    plt.plot(ts, sopdt(ts, K, tau, zeta,theta, y0), color='red')\n",
    "    plt.grid(True)"
   ]
  },
  {
   "cell_type": "code",
   "execution_count": 2,
   "id": "4c7a01c6",
   "metadata": {},
   "outputs": [
    {
     "name": "stdout",
     "output_type": "stream",
     "text": [
      "Collecting tbcontrol\n",
      "  Using cached tbcontrol-0.2.1-py3-none-any.whl (24 kB)\n",
      "Requirement already satisfied: numpy in c:\\users\\usuario\\anaconda3\\lib\\site-packages (from tbcontrol) (1.20.3)\n",
      "Requirement already satisfied: tqdm in c:\\users\\usuario\\anaconda3\\lib\\site-packages (from tbcontrol) (4.62.3)\n",
      "Requirement already satisfied: scipy in c:\\users\\usuario\\anaconda3\\lib\\site-packages (from tbcontrol) (1.7.1)\n",
      "Requirement already satisfied: packaging in c:\\users\\usuario\\anaconda3\\lib\\site-packages (from tbcontrol) (21.0)\n",
      "Requirement already satisfied: pyparsing>=2.0.2 in c:\\users\\usuario\\anaconda3\\lib\\site-packages (from packaging->tbcontrol) (3.0.4)\n",
      "Requirement already satisfied: colorama in c:\\users\\usuario\\anaconda3\\lib\\site-packages (from tqdm->tbcontrol) (0.4.4)\n",
      "Installing collected packages: tbcontrol\n",
      "Successfully installed tbcontrol-0.2.1\n",
      "Note: you may need to restart the kernel to use updated packages.\n"
     ]
    }
   ],
   "source": [
    "pip install tbcontrol"
   ]
  },
  {
   "cell_type": "code",
   "execution_count": 8,
   "id": "6e63ac82",
   "metadata": {},
   "outputs": [],
   "source": [
    "data = np.loadtxt('C:/Users/Usuario/Desktop/Universidad/Poli/Sexto semestre/Control digital/Lab/NO-LINEAL/data3.tex',delimiter=',',skiprows=1)\n",
    "ts = data[:,0].T\n",
    "u = data[:,1].T\n",
    "ym = data[:,2].T"
   ]
  },
  {
   "cell_type": "code",
   "execution_count": 10,
   "id": "90c6bd40",
   "metadata": {},
   "outputs": [
    {
     "data": {
      "application/vnd.jupyter.widget-view+json": {
       "model_id": "37b8323fe6e54af1b6be24dce9092d6e",
       "version_major": 2,
       "version_minor": 0
      },
      "text/plain": [
       "interactive(children=(FloatSlider(value=50.0, description='K'), FloatSlider(value=150.0, description='tau', ma…"
      ]
     },
     "metadata": {},
     "output_type": "display_data"
    }
   ],
   "source": [
    "fopdt\n",
    "interact(resultplot1, \n",
    "         K=(0., 100.), \n",
    "         tau=(0., 300.), \n",
    "         theta=(0., 100.), \n",
    "         y0=(0., 100.));"
   ]
  },
  {
   "cell_type": "code",
   "execution_count": 11,
   "id": "07c69372",
   "metadata": {},
   "outputs": [
    {
     "data": {
      "text/plain": [
       "[70.93034547628488, 255.09823551977334, 14.100431349618912, 28.725454782480572]"
      ]
     },
     "execution_count": 11,
     "metadata": {},
     "output_type": "execute_result"
    }
   ],
   "source": [
    "[K1, tau1, theta1, y01], _ = scipy.optimize.curve_fit(fopdt, ts, ym, [70.5, 250.7, 9.20, 28.50])\n",
    "[K1, tau1, theta1, y01]"
   ]
  },
  {
   "cell_type": "code",
   "execution_count": 12,
   "id": "b6459ed8",
   "metadata": {},
   "outputs": [],
   "source": [
    "Y_1orden = fopdt(ts, K1, tau1, theta1, y01)\n"
   ]
  },
  {
   "cell_type": "code",
   "execution_count": 14,
   "id": "3cf9350d",
   "metadata": {},
   "outputs": [
    {
     "data": {
      "application/vnd.jupyter.widget-view+json": {
       "model_id": "4d505b08b4e44216b513aa69df2f3a99",
       "version_major": 2,
       "version_minor": 0
      },
      "text/plain": [
       "interactive(children=(FloatSlider(value=50.0, description='K'), FloatSlider(value=125.0, description='tau', ma…"
      ]
     },
     "metadata": {},
     "output_type": "display_data"
    }
   ],
   "source": [
    "interact(resultplot2, \n",
    "         K=(0., 100.), \n",
    "         tau=(0., 250.), \n",
    "         theta=(0., 50.),\n",
    "         zeta = (-2.0, 20.0),\n",
    "         y0=(0., 50.));\n"
   ]
  },
  {
   "cell_type": "code",
   "execution_count": 15,
   "id": "173031a9",
   "metadata": {},
   "outputs": [
    {
     "data": {
      "text/plain": [
       "[71.2867379293676,\n",
       " 53.382545230686176,\n",
       " 2.4835448861004954,\n",
       " 2.033258546778679,\n",
       " 28.332395082646975]"
      ]
     },
     "execution_count": 15,
     "metadata": {},
     "output_type": "execute_result"
    }
   ],
   "source": [
    "p2_inicial = [70.8, 77, 1.7, 3.6, 28]\n",
    "[K_2, tau_2, zeta_2, theta_2, y0_2], pcov = scipy.optimize.curve_fit(sopdt, ts, ym, p2_inicial)\n",
    "[K_2, tau_2, zeta_2, theta_2, y0_2]"
   ]
  },
  {
   "cell_type": "code",
   "execution_count": 16,
   "id": "1c03e551",
   "metadata": {},
   "outputs": [],
   "source": [
    "Y_2orden = sopdt(ts, K_2, tau_2, zeta_2, theta_2, y0_2)"
   ]
  },
  {
   "cell_type": "code",
   "execution_count": 27,
   "id": "66187442",
   "metadata": {},
   "outputs": [
    {
     "data": {
      "image/png": "[encoded data removed]",
      "text/plain": [
       "<Figure size 396x288 with 1 Axes>"
      ]
     },
     "metadata": {
      "needs_background": "light"
     },
     "output_type": "display_data"
    }
   ],
   "source": [
    "plt.figure(figsize=(5.5,4))\n",
    "ax = plt.subplot(1,1,1)\n",
    "ax.grid()\n",
    "plt.scatter(ts, ym, color='blue', label='Data',linewidth = 3)\n",
    "plt.plot(ts,Y_1orden,'k-',label='Order 1', linewidth = 7)\n",
    "plt.plot(ts, Y_2orden,'g.',label='Order 2', linewidth =1)\n",
    "plt.ylabel(r'Temp ($^oC$)')\n",
    "plt.xlabel('Time (s)')\n",
    "plt.legend(loc=10)\n",
    "plt.savefig('ModelsOrder.png')\n",
    "plt.show()"
   ]
  },
  {
   "cell_type": "code",
   "execution_count": 38,
   "id": "8aff98fb",
   "metadata": {},
   "outputs": [
    {
     "data": {
      "image/png": "[encoded data removed]",
      "text/plain": [
       "<Figure size 396x288 with 1 Axes>"
      ]
     },
     "metadata": {
      "needs_background": "light"
     },
     "output_type": "display_data"
    }
   ],
   "source": [
    "plt.figure(figsize=(5.5,4))\n",
    "ax = plt.subplot(1,1,1)\n",
    "ax.grid()\n",
    "plt.scatter(ts, ym, color='blue', label='Process')\n",
    "plt.plot(ts,Y_2orden,'k--',label='Non-linear model')\n",
    "plt.ylabel(r'Temp ($^oC$)')\n",
    "plt.xlabel('Time (s)')\n",
    "plt.legend(loc=10)\n",
    "plt.savefig('ModelsOrder.png')\n",
    "plt.show()"
   ]
  },
  {
   "cell_type": "code",
   "execution_count": null,
   "id": "13d15746",
   "metadata": {},
   "outputs": [],
   "source": []
  }
 ],
 "metadata": {
  "kernelspec": {
   "display_name": "Python 3 (ipykernel)",
   "language": "python",
   "name": "python3"
  },
  "language_info": {
   "codemirror_mode": {
    "name": "ipython",
    "version": 3
   },
   "file_extension": ".py",
   "mimetype": "text/x-python",
   "name": "python",
   "nbconvert_exporter": "python",
   "pygments_lexer": "ipython3",
   "version": "3.9.7"
  }
 },
 "nbformat": 4,
 "nbformat_minor": 5
}
